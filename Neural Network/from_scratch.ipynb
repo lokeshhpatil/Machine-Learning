{
 "cells": [
  {
   "cell_type": "code",
   "execution_count": 4,
   "id": "fc820c2d",
   "metadata": {},
   "outputs": [
    {
     "name": "stdout",
     "output_type": "stream",
     "text": [
      "output predictions: \n",
      " [[0.44489913 0.62582057 0.62757937 0.44699758]\n",
      " [0.44221927 0.62760661 0.62761364 0.44197088]\n",
      " [0.44198506 0.62761362 0.62761365 0.44196298]\n",
      " [0.44212141 0.62725014 0.62761348 0.4434775 ]]\n"
     ]
    }
   ],
   "source": [
    "import numpy as np\n",
    "\n",
    "X = np.array([\n",
    "    [1, 2, 3],\n",
    "    [4, 5, 6],\n",
    "    [7, 8, 9],\n",
    "    [1, 3, 5]\n",
    "])\n",
    "\n",
    "W1 = np.random.randn(3, 4)\n",
    "b1 = np.random.randn(1, 4)\n",
    "\n",
    "W2 = np.random.randn(4, 1)\n",
    "b2 = np.random.randn(1, 1)\n",
    "\n",
    "W2 = np.random.randn()\n",
    "def sigmoid(z):\n",
    "    return 1 / (1 + np.exp(-z))\n",
    "\n",
    "z1 = np.dot(X, W1) + b1\n",
    "a1 = sigmoid(z1)\n",
    "\n",
    "\n",
    "z2 = np.dot(a1, W2) + b2\n",
    "a2 = sigmoid(z2)\n",
    "\n",
    "print(\"output predictions: \\n\", a2)"
   ]
  },
  {
   "cell_type": "code",
   "execution_count": null,
   "id": "ae515859",
   "metadata": {},
   "outputs": [
    {
     "name": "stdout",
     "output_type": "stream",
     "text": [
      "Output prediction: [[0.88439017]\n",
      " [0.88435051]\n",
      " [0.88435145]\n",
      " [0.88432814]]\n"
     ]
    }
   ],
   "source": [
    "import numpy as np\n",
    "\n",
    "# Sample dataset (4 examples, each with 3 features)\n",
    "X = np.array([\n",
    "    [1, 2, 3],\n",
    "    [4, 5, 6],\n",
    "    [7, 8, 9],\n",
    "    [1, 3, 5]\n",
    "])\n",
    "\n",
    "W1 = np.random.randn(3, 5)\n",
    "b1 = np.random.randn(1, 5)\n",
    "\n",
    "W2 = np.random.randn(5, 4)\n",
    "b2 = np.random.randn(1, 4)\n",
    "\n",
    "W3 = np.random.randn(4, 1)\n",
    "b3 = np.random.randn(1,1)\n",
    "\n",
    "def sigmoid(z):\n",
    "    return 1 / (1 + np.exp(-z))\n",
    "\n",
    "z1 = np.dot(X, W1) + b1\n",
    "a1 = sigmoid(z1)\n",
    "\n",
    "z2 = np.dot(a1, W2) + b2\n",
    "a2 = sigmoid(z2)\n",
    "\n",
    "z3 = np.dot(a2, W3) + b3\n",
    "a3 = sigmoid(z3)\n",
    "\n",
    "\n",
    "\n",
    "print(f\"Output prediction: {a3}\")"
   ]
  }
 ],
 "metadata": {
  "kernelspec": {
   "display_name": "sklearn-env",
   "language": "python",
   "name": "python3"
  },
  "language_info": {
   "codemirror_mode": {
    "name": "ipython",
    "version": 3
   },
   "file_extension": ".py",
   "mimetype": "text/x-python",
   "name": "python",
   "nbconvert_exporter": "python",
   "pygments_lexer": "ipython3",
   "version": "3.13.1"
  }
 },
 "nbformat": 4,
 "nbformat_minor": 5
}
