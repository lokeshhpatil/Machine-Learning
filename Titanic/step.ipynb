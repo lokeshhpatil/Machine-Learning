{
 "cells": [
  {
   "cell_type": "markdown",
   "id": "0ae4877f",
   "metadata": {},
   "source": [
    "#### load data and liabrary\n"
   ]
  },
  {
   "cell_type": "code",
   "execution_count": 176,
   "id": "7c1965e1",
   "metadata": {},
   "outputs": [],
   "source": [
    "import numpy as np\n",
    "import pandas as pd\n",
    "from matplotlib import pyplot as plt\n",
    "from sklearn.preprocessing import LabelEncoder\n",
    "\n",
    "# data = pd.read_csv('./data/train.csv')\n",
    "test_data = pd.read_csv('./data/test.csv')\n",
    "passenger_ids = test_data[\"PassengerId\"]\n"
   ]
  },
  {
   "cell_type": "markdown",
   "id": "716f90b4",
   "metadata": {},
   "source": [
    "### drop unnecessay columns"
   ]
  },
  {
   "cell_type": "code",
   "execution_count": null,
   "id": "ed31204c",
   "metadata": {},
   "outputs": [],
   "source": [
    "data = data.drop([\"PassengerId\", \"Name\", \"Ticket\", \"Cabin\"], axis=1)\n",
    "test_data = test_data.drop([\"PassengerId\", \"Name\", \"Ticket\", \"Cabin\"], axis= 1)"
   ]
  },
  {
   "cell_type": "code",
   "execution_count": null,
   "id": "644d258f",
   "metadata": {},
   "outputs": [],
   "source": [
    "# data[\"Age\"] = data[\"Age\"].fillna(data[\"Age\"].median())\n",
    "# test_data[\"Age\"] = test_data[\"Age\"].fillna(test_data[\"Age\"].median())"
   ]
  },
  {
   "cell_type": "code",
   "execution_count": null,
   "id": "079219b8",
   "metadata": {},
   "outputs": [],
   "source": [
    "# data[\"Embarked\"] = data[\"Embarked\"].fillna(data[\"Embarked\"].mode()[0])\n",
    "# test_data[\"Embarked\"] = test_data[\"Embarked\"].fillna(test_data[\"Embarked\"].mode()[0])"
   ]
  },
  {
   "cell_type": "code",
   "execution_count": null,
   "id": "68007495",
   "metadata": {},
   "outputs": [],
   "source": [
    "# print(test_data.isnull().sum())\n",
    "# test_data[\"Fare\"] = test_data[\"Fare\"].fillna(test_data[\"Fare\"].median())"
   ]
  },
  {
   "cell_type": "code",
   "execution_count": null,
   "id": "eb35c668",
   "metadata": {},
   "outputs": [],
   "source": [
    "print(\"Missing values in train:\\n\", data.isnull().sum())\n",
    "print(\"Missing values in test:\\n\", test_data.isnull().sum())"
   ]
  },
  {
   "cell_type": "code",
   "execution_count": null,
   "id": "8f8d654c",
   "metadata": {},
   "outputs": [],
   "source": [
    "le = LabelEncoder()\n",
    "data['Sex'] = le.fit_transform(data['Sex'])\n",
    "data['Embarked'] = le.fit_transform(data['Embarked'])"
   ]
  },
  {
   "cell_type": "markdown",
   "id": "40bb9b8a",
   "metadata": {},
   "source": [
    "#### Split feature (X) and target (Y)"
   ]
  },
  {
   "cell_type": "code",
   "execution_count": null,
   "id": "5f00d343",
   "metadata": {},
   "outputs": [],
   "source": [
    "X = data.drop('Survived', axis=1).to_numpy()\n",
    "y = data['Survived'].to_numpy()"
   ]
  },
  {
   "cell_type": "code",
   "execution_count": null,
   "id": "001eff8a",
   "metadata": {},
   "outputs": [],
   "source": [
    "print(\"Feature shape:\", X.shape)\n",
    "print(\"Target shape:\", y.shape)"
   ]
  },
  {
   "cell_type": "markdown",
   "id": "aa60cfad",
   "metadata": {},
   "source": [
    "### Train-test split"
   ]
  },
  {
   "cell_type": "code",
   "execution_count": null,
   "id": "6c72ad78",
   "metadata": {},
   "outputs": [],
   "source": [
    "from sklearn.model_selection import train_test_split\n",
    "\n",
    "X_train, x_val, y_train, y_val = train_test_split(\n",
    "    X, y, test_size=0.2, random_state=42\n",
    ")\n",
    "\n",
    "print(f\"Train : {X_train.shape} | {y_train.shape}\")\n",
    "print(f\"Validation : {x_val.shape} | {y_val.shape}\")"
   ]
  },
  {
   "cell_type": "markdown",
   "id": "3ea1b666",
   "metadata": {},
   "source": [
    "#### Feature Scaling"
   ]
  },
  {
   "cell_type": "code",
   "execution_count": null,
   "id": "72f57c24",
   "metadata": {},
   "outputs": [],
   "source": [
    "from sklearn.preprocessing import StandardScaler\n",
    "\n",
    "scaler = StandardScaler()\n",
    "\n",
    "X_train = scaler.fit_transform(X_train)\n",
    "x_val = scaler.fit_transform(x_val)"
   ]
  },
  {
   "cell_type": "markdown",
   "id": "368879f8",
   "metadata": {},
   "source": [
    "#### Logistic Regression Baseline in TensorFlow"
   ]
  },
  {
   "cell_type": "code",
   "execution_count": null,
   "id": "82b53df8",
   "metadata": {},
   "outputs": [],
   "source": [
    "from tensorflow.keras.layers import Dense\n",
    "from tensorflow.keras.models import Sequential\n",
    "\n",
    "log_rel_model = Sequential([\n",
    "    Dense(1, input_dim = X_train.shape[1], activation='sigmoid')\n",
    "])\n",
    "\n",
    "log_rel_model.compile(optimizer='adam', loss='binary_crossentropy', metrics=['accuracy'])\n",
    "\n",
    "history_log = log_rel_model.fit(\n",
    "    X_train, y_train,\n",
    "    validation_data = (x_val, y_val),\n",
    "    epochs = 100,\n",
    "    batch_size=32,\n",
    "    verbose=1\n",
    ")\n",
    "\n",
    "loss, acc = log_rel_model.evaluate(x_val, y_val, verbose=0)\n",
    "print(f\" (Logistic Regression) = Loss : {loss} || Accurasy : {acc}\")"
   ]
  },
  {
   "cell_type": "markdown",
   "id": "274c0a4e",
   "metadata": {},
   "source": [
    "#### Neural Network (MLP)"
   ]
  },
  {
   "cell_type": "code",
   "execution_count": null,
   "id": "b730adbc",
   "metadata": {},
   "outputs": [],
   "source": [
    "nn_model = Sequential([\n",
    "    Dense(16, input_dim = X_train.shape[1], activation='relu'),\n",
    "    Dense(8, activation='relu' ),\n",
    "    Dense(1, activation='sigmoid')\n",
    "])\n",
    "\n",
    "nn_model.compile(optimizer='adam', loss='binary_crossentropy', metrics=['accuracy'])\n",
    "\n",
    "history_nn = nn_model.fit(\n",
    "    X_train, y_train,\n",
    "    validation_data=(x_val, y_val),\n",
    "    epochs = 100,\n",
    "    batch_size = 32,\n",
    "    verbose = 1,\n",
    ")\n",
    "\n",
    "loss, acc = nn_model.evaluate(x_val, y_val, verbose=0)\n",
    "print(f\" (Neural Network (MLP) ) = Loss : {loss} || Accurasy : {acc}\")"
   ]
  },
  {
   "cell_type": "markdown",
   "id": "fcf13307",
   "metadata": {},
   "source": [
    "#### compare results"
   ]
  },
  {
   "cell_type": "code",
   "execution_count": null,
   "id": "1b389dc8",
   "metadata": {},
   "outputs": [],
   "source": [
    "plt.plot(history_log.history['val_accuracy'], label=\"LogReg Val Acc\")\n",
    "plt.plot(history_nn.history['val_accuracy'], label=\"NN Val Acc\")\n",
    "plt.xlabel(\"Epochs\")\n",
    "plt.ylabel(\"Validation Accuracy\")\n",
    "plt.legend()\n",
    "plt.show()"
   ]
  },
  {
   "cell_type": "markdown",
   "id": "4b287ed4",
   "metadata": {},
   "source": [
    "#### Predictions & Submissio"
   ]
  },
  {
   "cell_type": "code",
   "execution_count": 173,
   "id": "d60f8ec8",
   "metadata": {},
   "outputs": [
    {
     "data": {
      "text/html": [
       "<div>\n",
       "<style scoped>\n",
       "    .dataframe tbody tr th:only-of-type {\n",
       "        vertical-align: middle;\n",
       "    }\n",
       "\n",
       "    .dataframe tbody tr th {\n",
       "        vertical-align: top;\n",
       "    }\n",
       "\n",
       "    .dataframe thead th {\n",
       "        text-align: right;\n",
       "    }\n",
       "</style>\n",
       "<table border=\"1\" class=\"dataframe\">\n",
       "  <thead>\n",
       "    <tr style=\"text-align: right;\">\n",
       "      <th></th>\n",
       "      <th>Survived</th>\n",
       "      <th>Pclass</th>\n",
       "      <th>Sex</th>\n",
       "      <th>Age</th>\n",
       "      <th>SibSp</th>\n",
       "      <th>Parch</th>\n",
       "      <th>Fare</th>\n",
       "      <th>Embarked</th>\n",
       "    </tr>\n",
       "  </thead>\n",
       "  <tbody>\n",
       "    <tr>\n",
       "      <th>0</th>\n",
       "      <td>0</td>\n",
       "      <td>3</td>\n",
       "      <td>1</td>\n",
       "      <td>22.0</td>\n",
       "      <td>1</td>\n",
       "      <td>0</td>\n",
       "      <td>7.2500</td>\n",
       "      <td>2</td>\n",
       "    </tr>\n",
       "    <tr>\n",
       "      <th>1</th>\n",
       "      <td>1</td>\n",
       "      <td>1</td>\n",
       "      <td>0</td>\n",
       "      <td>38.0</td>\n",
       "      <td>1</td>\n",
       "      <td>0</td>\n",
       "      <td>71.2833</td>\n",
       "      <td>0</td>\n",
       "    </tr>\n",
       "    <tr>\n",
       "      <th>2</th>\n",
       "      <td>1</td>\n",
       "      <td>3</td>\n",
       "      <td>0</td>\n",
       "      <td>26.0</td>\n",
       "      <td>0</td>\n",
       "      <td>0</td>\n",
       "      <td>7.9250</td>\n",
       "      <td>2</td>\n",
       "    </tr>\n",
       "    <tr>\n",
       "      <th>3</th>\n",
       "      <td>1</td>\n",
       "      <td>1</td>\n",
       "      <td>0</td>\n",
       "      <td>35.0</td>\n",
       "      <td>1</td>\n",
       "      <td>0</td>\n",
       "      <td>53.1000</td>\n",
       "      <td>2</td>\n",
       "    </tr>\n",
       "    <tr>\n",
       "      <th>4</th>\n",
       "      <td>0</td>\n",
       "      <td>3</td>\n",
       "      <td>1</td>\n",
       "      <td>35.0</td>\n",
       "      <td>0</td>\n",
       "      <td>0</td>\n",
       "      <td>8.0500</td>\n",
       "      <td>2</td>\n",
       "    </tr>\n",
       "  </tbody>\n",
       "</table>\n",
       "</div>"
      ],
      "text/plain": [
       "   Survived  Pclass  Sex   Age  SibSp  Parch     Fare  Embarked\n",
       "0         0       3    1  22.0      1      0   7.2500         2\n",
       "1         1       1    0  38.0      1      0  71.2833         0\n",
       "2         1       3    0  26.0      0      0   7.9250         2\n",
       "3         1       1    0  35.0      1      0  53.1000         2\n",
       "4         0       3    1  35.0      0      0   8.0500         2"
      ]
     },
     "execution_count": 173,
     "metadata": {},
     "output_type": "execute_result"
    }
   ],
   "source": [
    "data.head()"
   ]
  },
  {
   "cell_type": "code",
   "execution_count": 168,
   "id": "0a6a16f6",
   "metadata": {},
   "outputs": [],
   "source": [
    "X_test_final = scaler.fit_transform(test_data)"
   ]
  },
  {
   "cell_type": "code",
   "execution_count": 170,
   "id": "ed117bce",
   "metadata": {},
   "outputs": [
    {
     "name": "stdout",
     "output_type": "stream",
     "text": [
      "\u001b[1m14/14\u001b[0m \u001b[32m━━━━━━━━━━━━━━━━━━━━\u001b[0m\u001b[37m\u001b[0m \u001b[1m0s\u001b[0m 8ms/step\n"
     ]
    }
   ],
   "source": [
    "y_pred = nn_model.predict(X_test_final)\n",
    "y_pred_final = (y_pred > 0.5).astype(int).flatten()"
   ]
  },
  {
   "cell_type": "code",
   "execution_count": 177,
   "id": "d8f93432",
   "metadata": {},
   "outputs": [
    {
     "name": "stdout",
     "output_type": "stream",
     "text": [
      "✅ Submission file created: submission.csv\n"
     ]
    }
   ],
   "source": [
    "submission = pd.DataFrame({\n",
    "    'passengerID' : passenger_ids,\n",
    "     \"Survived\": y_pred_final\n",
    "})\n",
    "\n",
    "submission.to_csv(\"submission.csv\", index=False)\n",
    "\n",
    "print(\"✅ Submission file created: submission.csv\")"
   ]
  }
 ],
 "metadata": {
  "kernelspec": {
   "display_name": "sklearn-env",
   "language": "python",
   "name": "python3"
  },
  "language_info": {
   "codemirror_mode": {
    "name": "ipython",
    "version": 3
   },
   "file_extension": ".py",
   "mimetype": "text/x-python",
   "name": "python",
   "nbconvert_exporter": "python",
   "pygments_lexer": "ipython3",
   "version": "3.13.1"
  }
 },
 "nbformat": 4,
 "nbformat_minor": 5
}
