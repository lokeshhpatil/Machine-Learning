{
 "cells": [
  {
   "cell_type": "code",
   "execution_count": null,
   "id": "2a3db543",
   "metadata": {},
   "outputs": [],
   "source": [
    "import numpy as np\n",
    "from matplotlib import pyplot as pyplot\n",
    "import tensorflow as tf\n",
    "from tensorflow.keras.models import Sequential\n",
    "from tensorflow.keras.layers import Dense"
   ]
  },
  {
   "cell_type": "code",
   "execution_count": 2,
   "id": "00999acc",
   "metadata": {},
   "outputs": [],
   "source": [
    "\n",
    "# Example training data\n",
    "X_train = np.array([[0], [1], [2], [3], [4], [5]], dtype=np.float32)\n",
    "Y_train = np.array([[0], [0], [0], [1], [1], [1]], dtype=np.float32)"
   ]
  },
  {
   "cell_type": "code",
   "execution_count": null,
   "id": "c7014962",
   "metadata": {},
   "outputs": [],
   "source": [
    "model = Sequential(\n",
    "    [\n",
    "        Dense(10, activation='sigmoid', input_shape=(1,)),\n",
    "        Dense(1, activation='sigmoid')\n",
    "    ]\n",
    ")\n",
    "\n",
    "model.compile(optimizer='adam', loss='binary_crossentropy', metrics=['accuracy'])\n",
    "\n",
    "model.fit(X_train, Y_train, epochs=1000, verbose=0)\n",
    "# model.tf.keras.Sequential\n",
    "\n",
    "# Predict\n",
    "predictions = model.predict(X_train)\n",
    "print(\"Predictions:\\n\", predictions)\n",
    "\n",
    "pred_class = (predictions > 0.5).astype(int)\n",
    "print(pred_class)\n"
   ]
  },
  {
   "cell_type": "code",
   "execution_count": null,
   "id": "a2d34090",
   "metadata": {},
   "outputs": [],
   "source": []
  }
 ],
 "metadata": {
  "kernelspec": {
   "display_name": "sklearn-env",
   "language": "python",
   "name": "python3"
  },
  "language_info": {
   "codemirror_mode": {
    "name": "ipython",
    "version": 3
   },
   "file_extension": ".py",
   "mimetype": "text/x-python",
   "name": "python",
   "nbconvert_exporter": "python",
   "pygments_lexer": "ipython3",
   "version": "3.13.1"
  }
 },
 "nbformat": 4,
 "nbformat_minor": 5
}
