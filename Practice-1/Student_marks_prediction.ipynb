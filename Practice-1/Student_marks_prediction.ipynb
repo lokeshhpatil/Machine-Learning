{
 "cells": [
  {
   "cell_type": "markdown",
   "id": "e6f9c083",
   "metadata": {},
   "source": [
    "### Hours Vs Marks"
   ]
  },
  {
   "cell_type": "code",
   "execution_count": 61,
   "id": "f6c96988",
   "metadata": {},
   "outputs": [],
   "source": [
    "import numpy as np\n",
    "from matplotlib import pyplot as plt"
   ]
  },
  {
   "cell_type": "markdown",
   "id": "06a1537b",
   "metadata": {},
   "source": [
    "#### Load DataSet"
   ]
  },
  {
   "cell_type": "code",
   "execution_count": 62,
   "id": "99fe98db",
   "metadata": {},
   "outputs": [],
   "source": [
    "# Features: [Hours of Study, Hours of Sleep]\n",
    "X = np.array([\n",
    "    [2, 8],\n",
    "    [3, 7],\n",
    "    [4, 6],\n",
    "    [5, 5],\n",
    "    [6, 4],\n",
    "    [7, 3],\n",
    "    [8, 2],\n",
    "    [9, 1]\n",
    "])\n",
    "\n",
    "# Target: Final exam score out of 100\n",
    "y = np.array([50, 55, 60, 65, 70, 75, 80, 85])\n"
   ]
  },
  {
   "cell_type": "markdown",
   "id": "d5caa50a",
   "metadata": {},
   "source": [
    "#### Predict Model"
   ]
  },
  {
   "cell_type": "code",
   "execution_count": 63,
   "id": "f6ebf6e4",
   "metadata": {},
   "outputs": [],
   "source": [
    "def make_prediction(x, w, b):\n",
    "    return np.dot(x, w) + b"
   ]
  },
  {
   "cell_type": "markdown",
   "id": "feb643d4",
   "metadata": {},
   "source": [
    "#### Square Error Function"
   ]
  },
  {
   "cell_type": "code",
   "execution_count": 64,
   "id": "86365443",
   "metadata": {},
   "outputs": [],
   "source": [
    "def cost_error(x, y, w, b):\n",
    "    m = x.shape[0]\n",
    "    prediction = make_prediction(x, w, b)\n",
    "    error = prediction - y\n",
    "    cost = (1 / (2 * m)) * np.sum(error ** 2)\n",
    "    return cost"
   ]
  },
  {
   "cell_type": "markdown",
   "id": "a3eb35eb",
   "metadata": {},
   "source": [
    "#### Compute Gradient Decent"
   ]
  },
  {
   "cell_type": "code",
   "execution_count": 65,
   "id": "6787e0c3",
   "metadata": {},
   "outputs": [],
   "source": [
    "def compute_gradient_descent(x, y, w, b):\n",
    "    m = x.shape[0]\n",
    "    prediction = make_prediction(x,w,b)\n",
    "    error = prediction - y\n",
    "    dj_dw = (1/m) * (x.T @ error)\n",
    "    dj_db = (1/m) * np.sum(error)\n",
    "    return dj_dw,dj_db"
   ]
  },
  {
   "cell_type": "markdown",
   "id": "681fd282",
   "metadata": {},
   "source": [
    "#### Gradient Decent"
   ]
  },
  {
   "cell_type": "code",
   "execution_count": 66,
   "id": "cd4f4ee7",
   "metadata": {},
   "outputs": [],
   "source": [
    "def gradient_descent(x, y, w_init, b_init, iter, alpha):\n",
    "    w = w_init.copy()\n",
    "    b = b_init\n",
    "    cost_hist = []\n",
    "\n",
    "    for i in range(iter):\n",
    "        dj_dw,dj_db = compute_gradient_descent(x, y, w, b)\n",
    "\n",
    "        w = w - alpha * dj_dw\n",
    "        b = b - alpha * dj_db\n",
    "\n",
    "        if i % 100 == 0 or i == iter-1:\n",
    "            cost = cost_error(x, y, w, b)\n",
    "            cost_hist.append(cost)\n",
    "            print(f\"iterations {i} : cost = {cost:.4f}, w = {w}, b = {b:.4f}\")\n",
    "\n",
    "    return w, b, cost_hist\n",
    "\n"
   ]
  },
  {
   "cell_type": "markdown",
   "id": "f37d12ca",
   "metadata": {},
   "source": [
    "#### Testing the model"
   ]
  },
  {
   "cell_type": "code",
   "execution_count": 85,
   "id": "6d0e8663",
   "metadata": {},
   "outputs": [
    {
     "name": "stdout",
     "output_type": "stream",
     "text": [
      "iterations 0 : cost = 2295.8166, w = [ 0.11456439 -0.11456439], b = 0.6750\n",
      "iterations 100 : cost = 300.2570, w = [ 4.98373916 -4.98373916], b = 43.0399\n",
      "iterations 200 : cost = 40.0993, w = [ 5.62948695 -5.62948695], b = 58.5468\n",
      "iterations 300 : cost = 5.3702, w = [ 5.71512574 -5.71512574], b = 64.2228\n",
      "iterations 400 : cost = 0.7195, w = [ 5.72648311 -5.72648311], b = 66.3005\n",
      "iterations 500 : cost = 0.0964, w = [ 5.72798932 -5.72798932], b = 67.0609\n",
      "iterations 600 : cost = 0.0129, w = [ 5.72818908 -5.72818908], b = 67.3393\n",
      "iterations 700 : cost = 0.0017, w = [ 5.72821557 -5.72821557], b = 67.4412\n",
      "iterations 800 : cost = 0.0002, w = [ 5.72821908 -5.72821908], b = 67.4785\n",
      "iterations 900 : cost = 0.0000, w = [ 5.72821955 -5.72821955], b = 67.4921\n",
      "iterations 999 : cost = 0.0000, w = [ 5.72821961 -5.72821961], b = 67.4971\n"
     ]
    }
   ],
   "source": [
    "# Features: [Hours of Study, Hours of Sleep]\n",
    "X = np.array([\n",
    "    [2, 8],\n",
    "    [3, 7],\n",
    "    [4, 6],\n",
    "    [5, 5],\n",
    "    [6, 4],\n",
    "    [7, 3],\n",
    "    [8, 2],\n",
    "    [9, 1]\n",
    "])\n",
    "\n",
    "# Target: Final exam score out of 100\n",
    "y = np.array([50, 55, 60, 65, 70, 75, 80, 85])\n",
    "\n",
    "mu = np.mean(X, axis=0)\n",
    "sigma = np.std(X, axis = 0)\n",
    "X_scaled = (X - mu) / sigma\n",
    "\n",
    "w_init = np.zeros(X.shape[1])\n",
    "b_init = 0\n",
    "alpha = 0.01\n",
    "iter = 1000\n",
    "\n",
    "w_final,b_final, cost_hist = gradient_descent(X_scaled, y, w_init, b_init, iter, alpha)\n",
    "\n",
    "predictions = make_prediction(X_scaled, w_final, b_final)\n",
    "\n"
   ]
  },
  {
   "cell_type": "code",
   "execution_count": 86,
   "id": "6a6bb485",
   "metadata": {},
   "outputs": [
    {
     "data": {
      "image/png": "[encoded data removed]",
      "text/plain": [
       "<Figure size 640x480 with 1 Axes>"
      ]
     },
     "metadata": {},
     "output_type": "display_data"
    }
   ],
   "source": [
    "plt.plot(range(0, len(cost_hist) * 100, 100), cost_hist)\n",
    "plt.xlabel(\"Iterations\")\n",
    "plt.ylabel(\"Cost\")\n",
    "plt.title(\"Cost vs Iterations\")\n",
    "plt.grid(True)\n",
    "plt.show()"
   ]
  },
  {
   "cell_type": "code",
   "execution_count": 87,
   "id": "d7c0b713",
   "metadata": {},
   "outputs": [
    {
     "data": {
      "image/png": "[encoded data removed]",
      "text/plain": [
       "<Figure size 640x480 with 1 Axes>"
      ]
     },
     "metadata": {},
     "output_type": "display_data"
    }
   ],
   "source": [
    "plt.scatter(range(len(y)), y, c='red', label='Actual')\n",
    "plt.plot(range(len(predictions)), predictions, c='blue', label='predictions')\n",
    "plt.grid(True)"
   ]
  }
 ],
 "metadata": {
  "kernelspec": {
   "display_name": "Python 3",
   "language": "python",
   "name": "python3"
  },
  "language_info": {
   "codemirror_mode": {
    "name": "ipython",
    "version": 3
   },
   "file_extension": ".py",
   "mimetype": "text/x-python",
   "name": "python",
   "nbconvert_exporter": "python",
   "pygments_lexer": "ipython3",
   "version": "3.13.1"
  }
 },
 "nbformat": 4,
 "nbformat_minor": 5
}
