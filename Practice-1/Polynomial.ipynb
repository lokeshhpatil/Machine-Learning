{
 "cells": [
  {
   "cell_type": "markdown",
   "id": "db49e7b1",
   "metadata": {},
   "source": [
    "## Polynomial Practice"
   ]
  },
  {
   "cell_type": "code",
   "execution_count": null,
   "id": "ab43f45b",
   "metadata": {},
   "outputs": [],
   "source": [
    "import numpy as np\n",
    "from matplotlib import pyplot as plt\n",
    "from sklearn.linear_model import LinearRegression\n",
    "from sklearn.preprocessing import PolynomialFeatures\n",
    "from sklearn.pipeline import make_pipeline"
   ]
  },
  {
   "cell_type": "markdown",
   "id": "15ce84f2",
   "metadata": {},
   "source": [
    "## sklearn liabrary"
   ]
  },
  {
   "cell_type": "markdown",
   "id": "35374138",
   "metadata": {},
   "source": [
    "##### Load DataSet"
   ]
  },
  {
   "cell_type": "code",
   "execution_count": null,
   "id": "2906886d",
   "metadata": {},
   "outputs": [],
   "source": [
    "# Age of bike in years\n",
    "X = np.array([1, 2, 3, 4, 5, 6, 7, 8, 9]).reshape(-1, 1)\n",
    "\n",
    "# Price in ₹ lakhs\n",
    "y = np.array([2.5, 2.1, 1.8, 1.6, 1.4, 1.3, 1.2, 1.1, 1.0])\n"
   ]
  },
  {
   "cell_type": "code",
   "execution_count": null,
   "id": "a53ef719",
   "metadata": {},
   "outputs": [],
   "source": [
    "def make_prediction(x, w, b):\n",
    "    return np.dot(x, w) + b"
   ]
  },
  {
   "cell_type": "code",
   "execution_count": null,
   "id": "c453fc62",
   "metadata": {},
   "outputs": [],
   "source": [
    "def cost_error(x, y, w, b):\n",
    "    m = x.shape[1]\n",
    "    prediction = make_prediction(x, w, b)\n",
    "    error = prediction - y\n",
    "    cost = (1 / (2 * m)) * np.sum(error ** 2)\n",
    "    return cost"
   ]
  },
  {
   "cell_type": "code",
   "execution_count": null,
   "id": "87ed9775",
   "metadata": {},
   "outputs": [],
   "source": [
    "def compute_gradient(x, y, w, b):\n",
    "    m = x.shape[1]\n",
    "    prediction = make_prediction(x,w,b)\n",
    "    error = prediction - y\n",
    "\n",
    "    dj_dw = (1 / m) * (x.T @ error)\n",
    "    dj_db  = (1 / m) * np.sum(error)\n",
    "\n",
    "    return dj_dw, dj_db"
   ]
  },
  {
   "cell_type": "code",
   "execution_count": null,
   "id": "3c564cec",
   "metadata": {},
   "outputs": [],
   "source": [
    "def gradient_descent(x, y, w_init, b_init, iterations, alpha):\n",
    "    w = w_init.copy()\n",
    "    b = b_init\n",
    "    cost_history = []\n",
    "\n",
    "    for i in range(iterations):\n",
    "        dj_dw, dj_db = compute_gradient(x, y, w, b)\n",
    "        w = w - alpha * dj_dw\n",
    "        b = b - alpha * dj_db\n",
    "\n",
    "        if i % 100 == 0 or i == iterations - 1:\n",
    "            cost = cost_error(x, y, w, b)\n",
    "            cost_history.append(cost)\n",
    "            print(f\"iterations {iterations}, cost = {cost}, b = {b}, w = {w}\")\n",
    "\n",
    "    return w, b, cost_history"
   ]
  },
  {
   "cell_type": "markdown",
   "id": "8b6c44e2",
   "metadata": {},
   "source": [
    "#### Run Model"
   ]
  },
  {
   "cell_type": "code",
   "execution_count": null,
   "id": "5a1f3711",
   "metadata": {},
   "outputs": [],
   "source": [
    "w_init = np.zeros(X.shape[1])\n",
    "b_init = 0\n",
    "iterations = 1000\n",
    "alpha = 0.005\n",
    "\n",
    "w_final, b_final, cost_history = gradient_descent(X, y, w_init, b_init, iterations, alpha)\n",
    "\n",
    "prediction = make_prediction(X, w_final, b_final)\n"
   ]
  },
  {
   "cell_type": "code",
   "execution_count": null,
   "id": "185da0d4",
   "metadata": {},
   "outputs": [],
   "source": [
    "plt.plot(range(0, len(cost_history) * 100, 100), cost_history, c = 'red', label = 'Cost of the model')"
   ]
  },
  {
   "cell_type": "code",
   "execution_count": null,
   "id": "ac1d2c8d",
   "metadata": {},
   "outputs": [],
   "source": [
    "plt.scatter(range(len(y)), y, c='b', label='Actual Value')\n",
    "plt.plot(range(len(prediction)), prediction, c='r', label='predictions')\n",
    "plt.xlabel('year of bike')\n",
    "plt.ylabel('cost of bike')\n",
    "plt.grid(True)\n",
    "plt.show()"
   ]
  },
  {
   "cell_type": "code",
   "execution_count": null,
   "id": "1a51bdf5",
   "metadata": {},
   "outputs": [],
   "source": [
    "model = make_pipeline(PolynomialFeatures(degree=3), LinearRegression())\n",
    "model.fit(X, y)\n",
    "\n",
    "# Step 4: Predict for smooth curve\n",
    "X_range = np.linspace(0, 8, 100).reshape(-1, 1)\n",
    "\n",
    "y_pred = model.predict(X_range)\n",
    "print(y_pred)\n",
    "\n",
    "plt.scatter(X, y, color='blue', label=\"Actual Data\")\n",
    "plt.plot(X_range, y_pred, color='green', label=f\"Polynomial Degree = 3\")\n",
    "plt.xlabel(\"Year of bike\")\n",
    "plt.ylabel(\"Cost of bike (₹ lakhs)\")\n",
    "plt.title(\"Polynomial Regression Fit\")\n",
    "plt.legend()\n",
    "plt.grid(True)\n",
    "plt.show()\n"
   ]
  }
 ],
 "metadata": {
  "kernelspec": {
   "display_name": "sklearn-env",
   "language": "python",
   "name": "python3"
  },
  "language_info": {
   "codemirror_mode": {
    "name": "ipython",
    "version": 3
   },
   "file_extension": ".py",
   "mimetype": "text/x-python",
   "name": "python",
   "nbconvert_exporter": "python",
   "pygments_lexer": "ipython3",
   "version": "3.13.1"
  }
 },
 "nbformat": 4,
 "nbformat_minor": 5
}
