{
 "cells": [
  {
   "cell_type": "markdown",
   "id": "8f4950ad",
   "metadata": {},
   "source": [
    "#### load data"
   ]
  },
  {
   "cell_type": "code",
   "execution_count": null,
   "id": "7d7bd4d4",
   "metadata": {},
   "outputs": [],
   "source": [
    "import numpy as np\n",
    "from matplotlib import pyplot as plt\n",
    "from sklearn.linear_model import LinearRegression\n",
    "from sklearn.preprocessing import PolynomialFeatures"
   ]
  },
  {
   "cell_type": "code",
   "execution_count": null,
   "id": "954230a1",
   "metadata": {},
   "outputs": [],
   "source": [
    "np.random.seed(42)\n",
    "\n",
    "# Features\n",
    "rainfall = np.random.randint(400, 1000, 30)              # mm\n",
    "fertilizer = np.random.randint(50, 200, 30)              # kg\n",
    "soil_quality = np.random.randint(4, 10, 30)              # score (1–10)\n",
    "\n",
    "# Combine features into a single matrix\n",
    "X = np.column_stack((rainfall, fertilizer, soil_quality))\n",
    "\n",
    "# Target variable: Crop Yield (tons/hectare)\n",
    "# Some polynomial relationship\n",
    "y = (\n",
    "    0.005 * rainfall +\n",
    "    0.04 * fertilizer +\n",
    "    0.6 * soil_quality +\n",
    "    0.00001 * rainfall * fertilizer - \n",
    "    0.003 * (soil_quality ** 2) +\n",
    "    np.random.normal(0, 1, 30)  # some noise\n",
    ")\n"
   ]
  },
  {
   "cell_type": "code",
   "execution_count": null,
   "id": "04b4c096",
   "metadata": {},
   "outputs": [],
   "source": [
    "def make_prediction(x, w, b):\n",
    "    return np.dot(x, w) + b"
   ]
  },
  {
   "cell_type": "code",
   "execution_count": null,
   "id": "8f940473",
   "metadata": {},
   "outputs": [],
   "source": [
    "def cost_error(x, y, w, b):\n",
    "    m = x.shape[0]\n",
    "    prediction = make_prediction(x, w, b)\n",
    "    error = prediction - y\n",
    "    cost = (1 / (2 * m)) * np.sum(error ** 2)\n",
    "    return cost"
   ]
  },
  {
   "cell_type": "code",
   "execution_count": null,
   "id": "2ccef526",
   "metadata": {},
   "outputs": [],
   "source": [
    "def compute_gradient(x, y, w, b):\n",
    "    m = x.shape[0]\n",
    "    prediction = make_prediction(x, w, b)\n",
    "    error = prediction - y\n",
    "\n",
    "    dj_dw = (1 / m) * (x.T @ error)\n",
    "    dj_db = (1 / m) * np.sum(error)\n",
    "\n",
    "    return dj_dw, dj_db"
   ]
  },
  {
   "cell_type": "code",
   "execution_count": null,
   "id": "9e1aea44",
   "metadata": {},
   "outputs": [],
   "source": [
    "def gradient_descents(x, y, w_init, b_init, alpha, iterations):\n",
    "    w = w_init.copy()\n",
    "    b = b_init\n",
    "    cost_history = []\n",
    "\n",
    "    for i in range(iterations):\n",
    "        dj_dw, dj_db = compute_gradient(x, y, w, b)\n",
    "        w = w - alpha * dj_dw\n",
    "        b = b - alpha * dj_db\n",
    "\n",
    "        if i % 100 == 0 or i == iterations - 1:\n",
    "            cost = cost_error(x, y, w, b)\n",
    "            cost_history.append(cost)\n",
    "            print(f\"iterations : {iterations}, cost = {cost}, w = {w}, b = {b}\")\n",
    "\n",
    "    return w, b, cost_history"
   ]
  },
  {
   "cell_type": "markdown",
   "id": "517054fb",
   "metadata": {},
   "source": [
    "#### Run The Model"
   ]
  },
  {
   "cell_type": "code",
   "execution_count": null,
   "id": "a120bba7",
   "metadata": {},
   "outputs": [],
   "source": [
    "w_init = np.zeros(X.shape[1])\n",
    "b_init = 0\n",
    "alpha = 1e-8\n",
    "iterations = 1000\n",
    "\n",
    "w_final, b_final, cost_history = gradient_descents(X, y, w_init, b_init, alpha, iterations)\n",
    "predictions = make_prediction(X, w_final, b_final)\n"
   ]
  },
  {
   "cell_type": "code",
   "execution_count": null,
   "id": "0f446350",
   "metadata": {},
   "outputs": [],
   "source": [
    "plt.plot(range(0, len(cost_history) * 100, 100), cost_history)"
   ]
  },
  {
   "cell_type": "code",
   "execution_count": null,
   "id": "271d469e",
   "metadata": {},
   "outputs": [],
   "source": [
    "# Cost vs iterations\n",
    "plt.figure()\n",
    "plt.plot(cost_history)\n",
    "plt.xlabel(\"Iterations\")\n",
    "plt.ylabel(\"Cost\")\n",
    "plt.title(\"Cost over iterations\")\n",
    "plt.grid(True)\n",
    "plt.show()\n",
    "\n",
    "# Predictions vs actual\n",
    "plt.figure()\n",
    "plt.scatter(range(len(y)), y, color='red', label='Actual Yield')\n",
    "plt.plot(range(len(predictions)), predictions, color='blue', label='Predicted Yield')\n",
    "plt.title(\"Crop Yield Prediction\")\n",
    "plt.xlabel(\"Sample Index\")\n",
    "plt.ylabel(\"Yield (tons/hectare)\")\n",
    "plt.legend()\n",
    "plt.grid(True)\n",
    "plt.show()\n"
   ]
  },
  {
   "cell_type": "code",
   "execution_count": null,
   "id": "e5410de0",
   "metadata": {},
   "outputs": [],
   "source": [
    "poly = PolynomialFeatures(degree = 2, include_bias=False)\n",
    "x_poly = poly.fit_transform(X)\n"
   ]
  },
  {
   "cell_type": "code",
   "execution_count": null,
   "id": "b49cad1a",
   "metadata": {},
   "outputs": [],
   "source": []
  }
 ],
 "metadata": {
  "kernelspec": {
   "display_name": "sklearn-env",
   "language": "python",
   "name": "python3"
  },
  "language_info": {
   "codemirror_mode": {
    "name": "ipython",
    "version": 3
   },
   "file_extension": ".py",
   "mimetype": "text/x-python",
   "name": "python",
   "nbconvert_exporter": "python",
   "pygments_lexer": "ipython3",
   "version": "3.13.1"
  }
 },
 "nbformat": 4,
 "nbformat_minor": 5
}
